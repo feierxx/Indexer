{
 "cells": [
  {
   "cell_type": "code",
   "execution_count": 5,
   "metadata": {},
   "outputs": [],
   "source": [
    "import indexer_functions\n",
    "from block_insertion import block_insertion"
   ]
  },
  {
   "cell_type": "markdown",
   "metadata": {},
   "source": [
    "### Block Retrieving"
   ]
  },
  {
   "cell_type": "code",
   "execution_count": 6,
   "metadata": {},
   "outputs": [],
   "source": [
    "block_height = 1194331\n",
    "file = indexer_functions.block_fetching(block_height)"
   ]
  },
  {
   "cell_type": "markdown",
   "metadata": {},
   "source": [
    "### Block Info Insertion"
   ]
  },
  {
   "cell_type": "code",
   "execution_count": 7,
   "metadata": {},
   "outputs": [
    {
     "name": "stdout",
     "output_type": "stream",
     "text": [
      "Connection successful!\n"
     ]
    }
   ],
   "source": [
    "#create establishment to the database\n",
    "conn = indexer_functions.establish_db_connection()"
   ]
  },
  {
   "cell_type": "code",
   "execution_count": 8,
   "metadata": {},
   "outputs": [
    {
     "name": "stdout",
     "output_type": "stream",
     "text": [
      "Transaction committed successfully.\n"
     ]
    }
   ],
   "source": [
    "#insert entries in to the established table\n",
    "block_insertion(file, conn)"
   ]
  },
  {
   "cell_type": "markdown",
   "metadata": {},
   "source": [
    "### Block Decoding"
   ]
  },
  {
   "cell_type": "code",
   "execution_count": 6,
   "metadata": {},
   "outputs": [],
   "source": [
    "txs = file['block']['data']['txs']\n",
    "transac = []\n",
    "\n",
    "#interating for each tx in the transcation records\n",
    "for tx in txs:\n",
    "    transac.append(indexer_functions.decoding(tx))"
   ]
  },
  {
   "cell_type": "markdown",
   "metadata": {},
   "source": [
    "### Transaction Info Insertion"
   ]
  },
  {
   "cell_type": "code",
   "execution_count": 12,
   "metadata": {},
   "outputs": [],
   "source": [
    "cur = conn.cursor()\n",
    "query = f\"SELECT block_id FROM blocks WHERE height = {block_height};\"\n",
    "cur.execute(query)\n",
    "block_id = cur.fetchone()[0]"
   ]
  },
  {
   "cell_type": "code",
   "execution_count": 14,
   "metadata": {},
   "outputs": [],
   "source": [
    "#use the transaction_insertion function to insert the info to transactions table\n",
    "from transaction_insertion import transaction_insertion\n",
    "transac_ids = []\n",
    "for i in transac:\n",
    "    transac_ids.append(transaction_insertion(i,conn,block_id))"
   ]
  },
  {
   "cell_type": "markdown",
   "metadata": {},
   "source": [
    "### Message Insertion"
   ]
  },
  {
   "cell_type": "code",
   "execution_count": 9,
   "metadata": {},
   "outputs": [],
   "source": [
    "import message_insertion \n",
    "\n",
    "message_handlers = {\n",
    "    '/ibc.applications.transfer.v1.MsgTransfer':message_insertion.msg_transfer,\n",
    "    '/cosmos.authz.v1beta1.MsgGrant':message_insertion.msg_grant,\n",
    "    '/cosmos.staking.v1beta1.MsgDelegate': message_insertion.msg_delegate,\n",
    "    '/cosmos.staking.v1beta1.MsgBeginRedelegate':message_insertion.msg_beginredelegate,\n",
    "    '/cosmos.authz.v1beta1.MsgRevoke':message_insertion.msg_revoke,\n",
    "    '/cosmos.distribution.v1beta1.MsgWithdrawValidatorCommission':message_insertion.,\n",
    "}"
   ]
  },
  {
   "cell_type": "code",
   "execution_count": 15,
   "metadata": {},
   "outputs": [],
   "source": [
    "for i in range(len(transac)):\n",
    "    transac_id = transac_ids[i]\n",
    "    decoded_file = transac[i]\n",
    "    messages = decoded_file['tx']['body']['messages']\n",
    "    for mes in messages:\n",
    "        mes_type = mes['@type']\n",
    "        if mes_type in message_handlers:\n",
    "            insertion_function = message_handlers[mes_type]\n",
    "            insertion_function(mes, conn, transac_id)\n",
    "        else:\n",
    "            print(f\"No handler defined for message type: {mes_type}\")\n"
   ]
  }
 ],
 "metadata": {
  "kernelspec": {
   "display_name": "base",
   "language": "python",
   "name": "python3"
  },
  "language_info": {
   "codemirror_mode": {
    "name": "ipython",
    "version": 3
   },
   "file_extension": ".py",
   "mimetype": "text/x-python",
   "name": "python",
   "nbconvert_exporter": "python",
   "pygments_lexer": "ipython3",
   "version": "3.11.5"
  }
 },
 "nbformat": 4,
 "nbformat_minor": 2
}
